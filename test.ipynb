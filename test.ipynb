{
 "cells": [
  {
   "cell_type": "code",
   "execution_count": 1,
   "metadata": {},
   "outputs": [],
   "source": [
    "import os\n",
    "from dotenv import load_dotenv\n"
   ]
  },
  {
   "cell_type": "code",
   "execution_count": 2,
   "metadata": {},
   "outputs": [
    {
     "name": "stdout",
     "output_type": "stream",
     "text": [
      "Current working directory: /Users/arturoavalos/Documents/projects/OPT_chatbot\n",
      "Does .env exist: True\n"
     ]
    },
    {
     "data": {
      "text/plain": [
       "True"
      ]
     },
     "execution_count": 2,
     "metadata": {},
     "output_type": "execute_result"
    }
   ],
   "source": [
    "# Debug prints\n",
    "print(f\"Current working directory: {os.getcwd()}\")\n",
    "print(f\"Does .env exist: {os.path.exists('.env')}\")\n",
    "load_dotenv()"
   ]
  },
  {
   "cell_type": "code",
   "execution_count": 3,
   "metadata": {},
   "outputs": [
    {
     "name": "stdout",
     "output_type": "stream",
     "text": [
      "API Key loaded: True\n"
     ]
    }
   ],
   "source": [
    "print(f\"API Key loaded: {os.getenv('GEMINI_API_KEY') is not None}\")"
   ]
  },
  {
   "cell_type": "code",
   "execution_count": 4,
   "metadata": {},
   "outputs": [],
   "source": [
    "query = 'What is Optional Practical Training (OPT)?'"
   ]
  },
  {
   "cell_type": "code",
   "execution_count": 5,
   "metadata": {},
   "outputs": [
    {
     "name": "stdout",
     "output_type": "stream",
     "text": [
      "API Key loaded: True\n"
     ]
    },
    {
     "data": {
      "text/plain": [
       "['General Information and Eligibility']"
      ]
     },
     "execution_count": 5,
     "metadata": {},
     "output_type": "execute_result"
    }
   ],
   "source": [
    "from src.process_query import *\n",
    "\n",
    "validated_categories = preprocess_query(query=query)\n",
    "validated_categories"
   ]
  },
  {
   "cell_type": "code",
   "execution_count": 7,
   "metadata": {},
   "outputs": [
    {
     "data": {
      "text/plain": [
       "('general_info.json', [])"
      ]
     },
     "execution_count": 7,
     "metadata": {},
     "output_type": "execute_result"
    }
   ],
   "source": [
    "primary_document, secondary_documents = match_files(validated_categories)\n",
    "primary_document, secondary_documents\n"
   ]
  },
  {
   "cell_type": "code",
   "execution_count": 8,
   "metadata": {},
   "outputs": [
    {
     "data": {
      "text/plain": [
       "'Here\\'s a comprehensive answer to the question \"What is Optional Practical Training (OPT)?\"\\n\\n**1. Direct Answer:**\\n\\nOptional Practical Training (OPT) is a work authorization available to F-1 international students, allowing them to gain practical work experience directly related to their major field of study. Students are eligible for a total of up to 12 months of OPT per higher education level.\\n\\n**2. Relevant Requirements & Eligibility:**\\n\\n*   **Eligibility Requirements:**\\n    *   Must have been enrolled full-time in F-1 student status for at least one academic year (two consecutive terms).\\n    *   Must not have exceeded 364 days of full-time Curricular Practical Training (CPT) in their current program.\\n    *   A job offer is not required to apply for OPT.\\n*   **Types of OPT:**\\n    *   **Pre-Completion OPT:** Used before program completion.\\n    *   **Post-Completion OPT:** Used after program completion.\\n    *   **STEM OPT Extension:** An additional 24 months for students with qualifying STEM degrees, *after* completing a period of Post-Completion OPT.\\n\\n**3. Important Considerations & Warnings:**\\n\\n*   **OPT is field-specific:** The work experience must be directly related to your major field of study.\\n*   **Pre-Completion OPT Time Deduction:** If you use part-time Pre-Completion OPT, the time is deducted at half the rate from your total 12 months of OPT eligibility. For example, 5 months of part-time Pre-Completion OPT will deduct 2.5 months from your total OPT time.\\n*   **Reapplication for Remaining OPT Time:** If you use Pre-Completion OPT, you must reapply and pay the filing fee again to use any remaining time for either Pre-Completion or Post-Completion OPT.\\n*   **Post-Completion OPT Unemployment Limit:** During Post-Completion OPT, you are limited to an aggregate maximum of 90 days of unemployment.\\n*   **STEM OPT Employer Requirements**: To be eligible for the STEM OPT extension, your employer *must* be enrolled in the E-Verify system, and the position *must* be paid and full-time (over 20 hours per week).\\n\\n**4. Next Steps & Recommended Actions:**\\n\\n*   **Explore OPT Resources:** Review the information available on the ISSS website: [https://myusf.usfca.edu/isss/students/f-1/employment/optinfo](https://myusf.usfca.edu/isss/students/f-1/employment/optinfo)\\n*   **Watch the OPT Information Video:** [https://usfca.hosted.panopto.com/Panopto/Pages/Viewer.aspx?id=c4243f9f-5f77-4e97-bb59-b26f006cbc36&start=0.696347](https://usfca.hosted.panopto.com/Panopto/Pages/Viewer.aspx?id=c4243f9f-5f77-4e97-bb59-b26f006cbc36&start=0.696347)\\n*   **Attend OPT Workshops/Advising:** Take advantage of the bi-weekly OPT drop-in advising hours offered by ISSS. Check the calendar for dates and times: [https://calendar.google.com/calendar/embed?src=c_4f2f31366a7184e3dfb919e14bfa9f08f8d1e1fe60f1a22902068364789286ea%40group.calendar.google.com&ctz=America%2FLos_Angeles](https://calendar.google.com/calendar/embed?src=c_4f2f31366a7184e3dfb919e14bfa9f08f8d1e1fe60f1a22902068364789286ea%40group.calendar.google.com&ctz=America%2FLos_Angeles)\\n*   **Schedule an Appointment:** For specific questions regarding your eligibility or situation, schedule an appointment with your ISSS advisor through the provided link.\\n'"
      ]
     },
     "execution_count": 8,
     "metadata": {},
     "output_type": "execute_result"
    }
   ],
   "source": [
    "generate_response(query=query,primary_document=primary_document,secondary_documents=secondary_documents)"
   ]
  }
 ],
 "metadata": {
  "kernelspec": {
   "display_name": "base",
   "language": "python",
   "name": "python3"
  },
  "language_info": {
   "codemirror_mode": {
    "name": "ipython",
    "version": 3
   },
   "file_extension": ".py",
   "mimetype": "text/x-python",
   "name": "python",
   "nbconvert_exporter": "python",
   "pygments_lexer": "ipython3",
   "version": "3.12.4"
  }
 },
 "nbformat": 4,
 "nbformat_minor": 2
}
